{
 "cells": [
  {
   "cell_type": "code",
   "execution_count": 1,
   "id": "ab765886-31ce-46b5-8c01-373001c05029",
   "metadata": {},
   "outputs": [],
   "source": [
    "# API KEYs are set in local environment variable\n",
    "LANGCHAIN_TRACING_V2=\"true\"\n",
    "\n",
    "from langchain_community.tools.tavily_search import TavilySearchResults\n",
    "\n",
    "tool = TavilySearchResults()"
   ]
  },
  {
   "cell_type": "code",
   "execution_count": 2,
   "id": "f9f64c4a-248c-4aef-9123-af07f273adac",
   "metadata": {},
   "outputs": [
    {
     "data": {
      "text/plain": [
       "[{'url': 'https://abcnews.go.com/US/burning-man-flooding-happened-stranded-festivalgoers/story?id=102908331',\n",
       "  'content': '\"\\nTop Stories\\nMacy\\'s Thanksgiving Day Parade temporarily halted by pro-Palestinian protesters\\nGuns N\\' Roses singer Axl Rose accused of alleged 1989 sexual assault by former model\\nFBI: Rainbow Bridge crash, explosion not connected to terrorism\\nToxic chemical spill from Kentucky train derailment forces residents to flee homes\\nHezbollah fires rockets at north Israel after an airstrike kills 5 of the group\\'s senior fighters\\nABC News Live\\n24/7 coverage of breaking news and live events ABC News\\nVideo\\nLive\\nShows\\nElection 2024\\n538\\nStream on\\nBurning Man flooding: What happened to stranded festivalgoers?\\n In response to the unusual weather, event organizers shut down traffic in or out of what is called Black Rock City -- where the festival is held in the desert -- including the local airport.\\n MORE: These US regions will experience scorching temperatures for the remainder of Labor Day weekend\\nOn Sunday, mobile cell trailers to boost cell service and charging stations were placed around the festival grounds amid the recovery efforts, according to organizers.\\n This is typically the driest time of the year for the desert, and it does not take much rain to make the desert floor a mud bath.\\n'},\n",
       " {'url': 'https://www.today.com/news/what-is-burning-man-flood-death-rcna103231',\n",
       "  'content': '\"\\nAn update on BurningMan.org posted the night of Sept. 3 offered those still on site a \"Wet Playa Survival Guide\" with tips, as well as an update saying that conditions were \"improving\" and that roads in Black Rock City were expected to open on Sept. 4 for \"Exodus.\"\\n\"Thank goodness this community knows how to take care of each other,\" the Instagram page for Burning Man Information Radio wrote on a post predicting more rain.\\nNeal Katyal, Chris Rock and others detail their ‘escape’ from Black Rock City\\nComedian Chris Rock and Diplo, producer and DJ,\\xa0were among this year\\'s Burning Man attendees. Why are people stranded at Burning Man?\\nEach year participants in the Burning Man event gather for nine days in an \"annual experiment in temporary community dedicated to Radical Self-expression and Radical Self-reliance,\" according to burningman.org.\\nHeld in Nevada since 1991, the festival sees dreamers, artists, tech founders and celebrities — among others — converge to create a temporary community in the desert.\\n By Sept. 1, organizers tweeted on X that the more than 70,000 attendees of Burning Man should \"help each other stay safe\" and that the gate and airport in and out of the area was closed due to the impossibility for vehicles to \"traverse the playa. In 2014, a 29-year-old woman was hit by a bus outside of Black Rock City, and a motorcycle accident claimed the life of a friend of the Burning Man founders back in 1996, according to an article in the Reno Gazette Journal.\\n \"A fan offered Chris Rock and I a ride out of burning man in the back of a pick up,\" Diplo wrote in a text overlay of the video.\\n'},\n",
       " {'url': 'https://apnews.com/article/burning-man-flooding-nevada-stranded-3971a523f4b993f8f35e158fd1a17a1e',\n",
       "  'content': 'This photo, provided by Maxar Technologies, shows an overview of the center camp at the Burning Man festival on Monday, Sept. 4, 2023, in the Black Rock Desert north of Reno, Nev. Partygoers stranded for days at the counterculture festival by a late summer storm were allowed to start leaving Monday afternoon after muddy roads dried up enough for them to begin their exodus from the northern Nevada desert. This photo, provided by Maxar Technologies, shows an overview of the center camp at the Burning Man festival on Monday, Sept. 4, 2023, in the Black Rock Desert north of Reno, Nev. Partygoers stranded for days at the counterculture festival by a late summer storm were allowed to start leaving Monday afternoon after muddy roads dried up enough for them to begin their exodus from the northern Nevada desert. This photo, provided by Maxar Technologies, shows an overview of traffic leaving the Burning Man festival on Monday, Sept. 4, 2023, in the Black Rock Desert north of Reno, Nev. Partygoers stranded for days at the counterculture festival by a late summer storm were allowed to start leaving Monday afternoon after muddy roads dried up enough for them to begin their exodus from the northern Nevada desert. This photo, provided by Maxar Technologies, shows an overview of traffic leaving the Burning Man festival on Monday, Sept. 4, 2023, in the Black Rock Desert north of Reno, Nev. Partygoers stranded for days at the counterculture festival by a late summer storm were allowed to start leaving Monday afternoon after muddy roads dried up enough for them to begin their exodus from the northern Nevada desert. This photo, provided by Maxar Technologies, shows an overview of traffic leaving the Burning Man festival on Monday, Sept. 4, 2023, in the Black Rock Desert north of Reno, Nev. Partygoers stranded for days at the counterculture festival by a late summer storm were allowed to start leaving Monday afternoon after muddy roads dried up enough for them to begin their exodus from the northern Nevada desert.'},\n",
       " {'url': 'https://www.cnn.com/2023/09/05/us/burning-man-storms-shelter-exodus-tuesday/index.html',\n",
       "  'content': \"CNN values your feedback\\nBurning Man attendees make a mass exodus after a dramatic weekend that left thousands stuck in the Nevada desert\\nThousands of Burning Man attendees finally made their mass exodus after intense rain over the weekend flooded camp sites and filled them with thick, ankle-deep mud – stranding more than 70,000 free-spirited revelers as they waited for the Nevada desert city to dry out.\\n Burning Man organizers lift driving ban after heavy rains left the event smothered in mud and trapped thousands\\nThe area was still muddy and parts were still difficult to navigate, organizers warned, and the wait time to leave the city Monday night was about seven hours. Diplo hitchhiked ride out of rain-drenched Burning Man after walking miles 'through the mud' and actually made it to his DC concert\\n“Quite a wet start to September for much of eastern CA-western NV,” the National Weather Service in Reno wrote on X. ” “As soon as the tents started getting water-logged or unlivable, people in RVs started taking in some of the tenters, so everybody was warm,” Kaz Qamruddin, who attended the event, told CNN’s Brianna Keilar Monday.\\n From wood blocks to 'poop buckets,' how Burning Man organizers told festivalgoers to prepare for heavy rain\\nAmong the early departures was music DJ Diplo, who told CNN he walked several miles in the muddy desert Saturday morning along with other celebrities, including Chris Rock, Cindy Crawford, Kaia Gerber and Austin Butler.\"},\n",
       " {'url': 'https://www.nbcnews.com/news/us-news/live-blog/live-updates-burning-man-flooding-keeps-thousands-stranded-nevada-site-rcna103193',\n",
       "  'content': \"Profile\\nSections\\ntv\\nFeatured\\nMore From NBC\\nFollow NBC News\\nnews Alerts\\nThere are no new alerts at this time\\nBurning Man flooding keeps thousands stranded at Nevada site as authorities investigate 1 death\\nBurning Man attendees struggling to get home\\n70,000+ stuck at Burning Man: When will they be able to get out?\\n Thousands still stranded at Burning Man after torrential rain\\nBurning Man revelers unfazed by deluge and deep mud\\nReuters\\nThousands of Burning Man attendees partied hard on Sunday despite downpours that turned the Nevada desert where the annual arts and music festival takes place into a sea of sticky mud and led officials to order the multitudes to shelter in place.\\n Neal Katyal warns hiking in the mud\\ncan be 'worse than walking on ice'\\nDoha Madani\\nNeal Katyal, the former acting U.S. solicitor general, is among the Burning Man attendees who decided to take the risk and hike out of the festival grounds.\\n Videos posted to his Instagram story show Diplo walking through mud before, he says, he hitchhiked to Gerlach and Reno to make a flight to Washington, D.C.\\n“I just got done DJ’ing for three hours, after walking f---ing for four hours out of the desert and taking a flight, mud still on my face,” he said in a video posted to his Instagram story last night.\\n Burning Man memes are swamping social media\\nAngela Yang\\nAs heavy rain turns Burning Man 2023 into a muddy mess, a deluge of unsympathetic jokes has swamped the internet outside Black Rock City, the temporary location built annually for the nine-day festival in the remote desert of Nevada.\\n\"}]"
      ]
     },
     "execution_count": 2,
     "metadata": {},
     "output_type": "execute_result"
    }
   ],
   "source": [
    "tool.invoke({\"query\": \"What happened in the latest burning man floods\"})"
   ]
  },
  {
   "cell_type": "code",
   "execution_count": 3,
   "id": "32ccfc4b-b3da-4df9-9b40-eb2360888a27",
   "metadata": {},
   "outputs": [],
   "source": [
    "from langchain import hub\n",
    "from langchain.agents import AgentExecutor, create_openai_functions_agent\n",
    "from langchain_openai import ChatOpenAI\n",
    "\n",
    "instructions = \"\"\"You are an assistant.\"\"\"\n",
    "base_prompt = hub.pull(\"langchain-ai/openai-functions-template\")\n",
    "prompt = base_prompt.partial(instructions=instructions)\n",
    "llm = ChatOpenAI(temperature=0)\n",
    "tavily_tool = TavilySearchResults()\n",
    "tools = [tavily_tool]\n",
    "agent = create_openai_functions_agent(llm, tools, prompt)\n",
    "agent_executor = AgentExecutor(\n",
    "    agent=agent,\n",
    "    tools=tools,\n",
    "    verbose=True,\n",
    ")"
   ]
  },
  {
   "cell_type": "code",
   "execution_count": 4,
   "id": "0dac0ac7-e58a-454a-9c54-e6f46b4b5baa",
   "metadata": {},
   "outputs": [
    {
     "name": "stdout",
     "output_type": "stream",
     "text": [
      "\n",
      "\n",
      "\u001b[1m> Entering new AgentExecutor chain...\u001b[0m\n",
      "\u001b[32;1m\u001b[1;3m\n",
      "Invoking: `tavily_search_results_json` with `{'query': 'latest Burning Man floods'}`\n",
      "\n",
      "\n",
      "\u001b[0m\u001b[36;1m\u001b[1;3m[{'url': 'https://www.cnn.com/us/live-news/nevada-desert-burning-man-weather-rain-09-03-23/index.html', 'content': 'The festival’s 2023 theme is “Animalia,” which the Burning Man website explains, “will celebrate the animal world and our place in it — animals real and imagined, mythic and remembered — and explore the curious mental constructs that allow us to believe that imagined animals are real, real animals are imagined, and that somehow, despite all evidence to the contrary, mankind is somehow not part of the animal kingdom.”\\n Thousands stranded at Burning Man festival after heavy rains\\nBy Maureen Chowdhury, Steve Almasy and Matt Meyer, CNN\\nWhat we\\'re covering\\nPresident Biden has been briefed on the situation at Burning Man festival\\nFrom CNN\\'s Betsy Klein\\nPresident Joe Biden was briefed Sunday on the situation at the Burning Man festival in Black Rock Desert, Nevada, according to a White House official.\\n View Katyal\\'s post below:\\nSome of the 70,000 people stranded at Burning Man are walking out of the site, sheriff\\'s office says\\nFrom CNN\\'s Melissa Alonso\\nThere are currently \"a little over 70,000\" people stranded at the Burning Man festival in Nevada due to the mud and flooding, Pershing County Sheriff’s Sgt. Burning Man organizers working to provide cell service and medical resources as attendees shelter in place\\nFrom CNN\\'s Nouran Salahieh\\xa0and\\xa0Emma Tucker\\nBurning Man organizers say they are placing mobile cell trailers around the battered festival grounds, configuring their Wi-Fi system for public access, and sending buses to nearby Gerlach, Nevada, to pick up people who might have walked out of the desert and ferry them to Reno.\\n Festivalgoers are managing to have a good time despite being stuck in the mud, attendee says\\nDawne Looney, a Burning Man festival attendee, says people are making the best of the situation despite the heavy rain and mud stranding an estimated 70,000 of them in the desert.\\n'}, {'url': 'https://www.today.com/news/what-is-burning-man-flood-death-rcna103231', 'content': '\"\\nAn update on BurningMan.org posted the night of Sept. 3 offered those still on site a \"Wet Playa Survival Guide\" with tips, as well as an update saying that conditions were \"improving\" and that roads in Black Rock City were expected to open on Sept. 4 for \"Exodus.\"\\n\"Thank goodness this community knows how to take care of each other,\" the Instagram page for Burning Man Information Radio wrote on a post predicting more rain.\\nNeal Katyal, Chris Rock and others detail their ‘escape’ from Black Rock City\\nComedian Chris Rock and Diplo, producer and DJ,\\xa0were among this year\\'s Burning Man attendees. Why are people stranded at Burning Man?\\nEach year participants in the Burning Man event gather for nine days in an \"annual experiment in temporary community dedicated to Radical Self-expression and Radical Self-reliance,\" according to burningman.org.\\nHeld in Nevada since 1991, the festival sees dreamers, artists, tech founders and celebrities — among others — converge to create a temporary community in the desert.\\n By Sept. 1, organizers tweeted on X that the more than 70,000 attendees of Burning Man should \"help each other stay safe\" and that the gate and airport in and out of the area was closed due to the impossibility for vehicles to \"traverse the playa. In 2014, a 29-year-old woman was hit by a bus outside of Black Rock City, and a motorcycle accident claimed the life of a friend of the Burning Man founders back in 1996, according to an article in the Reno Gazette Journal.\\n \"A fan offered Chris Rock and I a ride out of burning man in the back of a pick up,\" Diplo wrote in a text overlay of the video.\\n'}, {'url': 'https://www.nbcnews.com/news/us-news/live-blog/live-updates-burning-man-flooding-keeps-thousands-stranded-nevada-site-rcna103193', 'content': \"Profile\\nSections\\ntv\\nFeatured\\nMore From NBC\\nFollow NBC News\\nnews Alerts\\nThere are no new alerts at this time\\nBurning Man flooding keeps thousands stranded at Nevada site as authorities investigate 1 death\\nBurning Man attendees struggling to get home\\n70,000+ stuck at Burning Man: When will they be able to get out?\\n Thousands still stranded at Burning Man after torrential rain\\nBurning Man revelers unfazed by deluge and deep mud\\nReuters\\nThousands of Burning Man attendees partied hard on Sunday despite downpours that turned the Nevada desert where the annual arts and music festival takes place into a sea of sticky mud and led officials to order the multitudes to shelter in place.\\n Neal Katyal warns hiking in the mud\\ncan be 'worse than walking on ice'\\nDoha Madani\\nNeal Katyal, the former acting U.S. solicitor general, is among the Burning Man attendees who decided to take the risk and hike out of the festival grounds.\\n Videos posted to his Instagram story show Diplo walking through mud before, he says, he hitchhiked to Gerlach and Reno to make a flight to Washington, D.C.\\n“I just got done DJ’ing for three hours, after walking f---ing for four hours out of the desert and taking a flight, mud still on my face,” he said in a video posted to his Instagram story last night.\\n Burning Man memes are swamping social media\\nAngela Yang\\nAs heavy rain turns Burning Man 2023 into a muddy mess, a deluge of unsympathetic jokes has swamped the internet outside Black Rock City, the temporary location built annually for the nine-day festival in the remote desert of Nevada.\\n\"}, {'url': 'https://www.cnn.com/2023/09/05/us/burning-man-storms-shelter-exodus-tuesday/index.html', 'content': \"CNN values your feedback\\nBurning Man attendees make a mass exodus after a dramatic weekend that left thousands stuck in the Nevada desert\\nThousands of Burning Man attendees finally made their mass exodus after intense rain over the weekend flooded camp sites and filled them with thick, ankle-deep mud – stranding more than 70,000 free-spirited revelers as they waited for the Nevada desert city to dry out.\\n Burning Man organizers lift driving ban after heavy rains left the event smothered in mud and trapped thousands\\nThe area was still muddy and parts were still difficult to navigate, organizers warned, and the wait time to leave the city Monday night was about seven hours. Diplo hitchhiked ride out of rain-drenched Burning Man after walking miles 'through the mud' and actually made it to his DC concert\\n“Quite a wet start to September for much of eastern CA-western NV,” the National Weather Service in Reno wrote on X. ” “As soon as the tents started getting water-logged or unlivable, people in RVs started taking in some of the tenters, so everybody was warm,” Kaz Qamruddin, who attended the event, told CNN’s Brianna Keilar Monday.\\n From wood blocks to 'poop buckets,' how Burning Man organizers told festivalgoers to prepare for heavy rain\\nAmong the early departures was music DJ Diplo, who told CNN he walked several miles in the muddy desert Saturday morning along with other celebrities, including Chris Rock, Cindy Crawford, Kaia Gerber and Austin Butler.\"}, {'url': 'https://apnews.com/article/burning-man-flooding-nevada-stranded-0726190c9f8378935e2a3cce7f154785', 'content': 'This photo, provided by Maxar Technologies, shows an overview of the center camp at the Burning Man festival on Monday, Sept. 4, 2023, in the Black Rock Desert north of Reno, Nev. Partygoers stranded for days at the counterculture festival by a late summer storm were allowed to start leaving Monday afternoon after muddy roads dried up enough for them to begin their exodus from the northern Nevada desert. This photo, provided by Maxar Technologies, shows an overview of the center camp at the Burning Man festival on Monday, Sept. 4, 2023, in the Black Rock Desert north of Reno, Nev. Partygoers stranded for days at the counterculture festival by a late summer storm were allowed to start leaving Monday afternoon after muddy roads dried up enough for them to begin their exodus from the northern Nevada desert. This photo, provided by Maxar Technologies, shows an overview of traffic leaving the Burning Man festival on Monday, Sept. 4, 2023, in the Black Rock Desert north of Reno, Nev. Partygoers stranded for days at the counterculture festival by a late summer storm were allowed to start leaving Monday afternoon after muddy roads dried up enough for them to begin their exodus from the northern Nevada desert. This photo, provided by Maxar Technologies, shows an overview of traffic leaving the Burning Man festival on Monday, Sept. 4, 2023, in the Black Rock Desert north of Reno, Nev. Partygoers stranded for days at the counterculture festival by a late summer storm were allowed to start leaving Monday afternoon after muddy roads dried up enough for them to begin their exodus from the northern Nevada desert. This photo, provided by Maxar Technologies, shows an overview of traffic leaving the Burning Man festival on Monday, Sept. 4, 2023, in the Black Rock Desert north of Reno, Nev. Partygoers stranded for days at the counterculture festival by a late summer storm were allowed to start leaving Monday afternoon after muddy roads dried up enough for them to begin their exodus from the northern Nevada desert.'}]\u001b[0m\u001b[32;1m\u001b[1;3mThe latest Burning Man festival experienced heavy rains and flooding, which left thousands of attendees stranded in the Nevada desert. The festival's 2023 theme is \"Animalia,\" celebrating the animal world and our place in it. Burning Man organizers worked to provide cell service and medical resources as attendees sheltered in place. Despite the challenging conditions, festivalgoers managed to have a good time despite being stuck in the mud.\n",
      "\n",
      "Attendees were eventually able to make a mass exodus after the intense rain flooded camp sites and filled them with ankle-deep mud. The area was still muddy and parts were difficult to navigate, but organizers lifted the driving ban and allowed people to leave. Some attendees, including music DJ Diplo, walked several miles in the muddy desert before hitchhiking out.\n",
      "\n",
      "Overall, the festival faced challenges due to the heavy rains and flooding, but attendees eventually were able to leave the site after the conditions improved.\u001b[0m\n",
      "\n",
      "\u001b[1m> Finished chain.\u001b[0m\n"
     ]
    },
    {
     "data": {
      "text/plain": [
       "{'input': 'What happened in the latest burning man floods?',\n",
       " 'output': 'The latest Burning Man festival experienced heavy rains and flooding, which left thousands of attendees stranded in the Nevada desert. The festival\\'s 2023 theme is \"Animalia,\" celebrating the animal world and our place in it. Burning Man organizers worked to provide cell service and medical resources as attendees sheltered in place. Despite the challenging conditions, festivalgoers managed to have a good time despite being stuck in the mud.\\n\\nAttendees were eventually able to make a mass exodus after the intense rain flooded camp sites and filled them with ankle-deep mud. The area was still muddy and parts were difficult to navigate, but organizers lifted the driving ban and allowed people to leave. Some attendees, including music DJ Diplo, walked several miles in the muddy desert before hitchhiking out.\\n\\nOverall, the festival faced challenges due to the heavy rains and flooding, but attendees eventually were able to leave the site after the conditions improved.'}"
      ]
     },
     "execution_count": 4,
     "metadata": {},
     "output_type": "execute_result"
    }
   ],
   "source": [
    "agent_executor.invoke({\"input\": \"What happened in the latest burning man floods?\"})"
   ]
  },
  {
   "cell_type": "code",
   "execution_count": null,
   "id": "cce62b44-f271-4558-abc6-7c753779b305",
   "metadata": {},
   "outputs": [],
   "source": []
  }
 ],
 "metadata": {
  "kernelspec": {
   "display_name": "Python 3 (ipykernel)",
   "language": "python",
   "name": "python3"
  },
  "language_info": {
   "codemirror_mode": {
    "name": "ipython",
    "version": 3
   },
   "file_extension": ".py",
   "mimetype": "text/x-python",
   "name": "python",
   "nbconvert_exporter": "python",
   "pygments_lexer": "ipython3",
   "version": "3.12.3"
  }
 },
 "nbformat": 4,
 "nbformat_minor": 5
}
