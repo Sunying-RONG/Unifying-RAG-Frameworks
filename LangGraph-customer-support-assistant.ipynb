{
 "cells": [
  {
   "cell_type": "code",
   "execution_count": 1,
   "id": "52ce5bd3-fb28-4d75-a61c-1052a8d49363",
   "metadata": {},
   "outputs": [],
   "source": [
    "# Build a customer support assistant. Make the assistant to be able to:\n",
    "    # Use tools to respond to questions\n",
    "    # Connect with a human if needed\n",
    "    # Be able to pause the process indefinitely and resume whenever the human responds\n",
    "\n",
    "import json\n",
    "\n",
    "from langchain_anthropic import ChatAnthropic\n",
    "from langchain_community.tools.tavily_search import TavilySearchResults\n",
    "\n",
    "from langgraph.checkpoint.sqlite import SqliteSaver\n",
    "from langgraph.graph import END, MessageGraph\n",
    "from langgraph.prebuilt.tool_node import ToolNode\n",
    "\n",
    "\n",
    "# Define the function that determines whether to continue or not\n",
    "def should_continue(messages):\n",
    "    last_message = messages[-1]\n",
    "    # If there is no function call, then we finish\n",
    "    if not last_message.tool_calls:\n",
    "        return END\n",
    "    else:\n",
    "        return \"action\"\n",
    "\n",
    "\n",
    "# Define a new graph\n",
    "workflow = MessageGraph()\n",
    "\n",
    "tools = [TavilySearchResults(max_results=1)]\n",
    "model = ChatAnthropic(model=\"claude-3-haiku-20240307\").bind_tools(tools)\n",
    "workflow.add_node(\"agent\", model)\n",
    "workflow.add_node(\"action\", ToolNode(tools))\n",
    "\n",
    "workflow.set_entry_point(\"agent\")\n",
    "\n",
    "# Conditional agent -> action OR agent -> END\n",
    "workflow.add_conditional_edges(\n",
    "    \"agent\",\n",
    "    should_continue,\n",
    ")\n",
    "\n",
    "# Always transition `action` -> `agent`\n",
    "workflow.add_edge(\"action\", \"agent\")\n",
    "\n",
    "memory = SqliteSaver.from_conn_string(\":memory:\") # Here we only save in-memory\n",
    "\n",
    "# Setting the interrupt means that any time an action is called, the machine will stop\n",
    "app = workflow.compile(checkpointer=memory, interrupt_before=[\"action\"])"
   ]
  },
  {
   "cell_type": "code",
   "execution_count": 2,
   "id": "af4f5c80-f9eb-4c54-97d6-45c641909324",
   "metadata": {},
   "outputs": [
    {
     "name": "stdout",
     "output_type": "stream",
     "text": [
      "================================\u001b[1m Human Message \u001b[0m=================================\n",
      "\n",
      "what is the weather in sf currently\n",
      "==================================\u001b[1m Ai Message \u001b[0m==================================\n",
      "\n",
      "[{'id': 'toolu_0162yxpdqkahmyw1x3bRAK2Z', 'input': {'query': 'san francisco current weather'}, 'name': 'tavily_search_results_json', 'type': 'tool_use'}]\n",
      "Tool Calls:\n",
      "  tavily_search_results_json (toolu_0162yxpdqkahmyw1x3bRAK2Z)\n",
      " Call ID: toolu_0162yxpdqkahmyw1x3bRAK2Z\n",
      "  Args:\n",
      "    query: san francisco current weather\n"
     ]
    }
   ],
   "source": [
    "# Run the graph\n",
    "thread = {\"configurable\": {\"thread_id\": \"4\"}}\n",
    "for event in app.stream(\"what is the weather in sf currently\", thread, stream_mode=\"values\"):\n",
    "    event[-1].pretty_print()"
   ]
  },
  {
   "cell_type": "code",
   "execution_count": 4,
   "id": "638711bc-9c46-4dd4-b863-08b1ff8c40e8",
   "metadata": {},
   "outputs": [
    {
     "name": "stdout",
     "output_type": "stream",
     "text": [
      "=================================\u001b[1m Tool Message \u001b[0m=================================\n",
      "Name: tavily_search_results_json\n",
      "\n",
      "[{\"url\": \"https://www.weatherapi.com/\", \"content\": \"{'location': {'name': 'San Francisco', 'region': 'California', 'country': 'United States of America', 'lat': 37.78, 'lon': -122.42, 'tz_id': 'America/Los_Angeles', 'localtime_epoch': 1718761108, 'localtime': '2024-06-18 18:38'}, 'current': {'last_updated_epoch': 1718760600, 'last_updated': '2024-06-18 18:30', 'temp_c': 18.9, 'temp_f': 66.0, 'is_day': 1, 'condition': {'text': 'Partly cloudy', 'icon': '//cdn.weatherapi.com/weather/64x64/day/116.png', 'code': 1003}, 'wind_mph': 13.6, 'wind_kph': 22.0, 'wind_degree': 280, 'wind_dir': 'W', 'pressure_mb': 1010.0, 'pressure_in': 29.82, 'precip_mm': 0.0, 'precip_in': 0.0, 'humidity': 52, 'cloud': 75, 'feelslike_c': 18.9, 'feelslike_f': 66.0, 'windchill_c': 12.9, 'windchill_f': 55.2, 'heatindex_c': 14.2, 'heatindex_f': 57.6, 'dewpoint_c': 7.8, 'dewpoint_f': 46.1, 'vis_km': 16.0, 'vis_miles': 9.0, 'uv': 4.0, 'gust_mph': 19.7, 'gust_kph': 31.6}}\"}]\n",
      "==================================\u001b[1m Ai Message \u001b[0m==================================\n",
      "\n",
      "Based on the search results, the current weather in San Francisco is:\n",
      "\n",
      "- Temperature: 18.9°C (66°F)\n",
      "- Conditions: Partly cloudy\n",
      "- Wind: 13.6 mph (22.0 kph) from the west\n",
      "- Humidity: 52%\n",
      "- UV Index: 4\n",
      "\n",
      "The search results provide comprehensive, real-time weather information for San Francisco, including the current temperature, sky conditions, wind speed and direction, humidity, and UV index. This should give a good overview of the current weather situation in the city.\n"
     ]
    }
   ],
   "source": [
    "for event in app.stream(None, thread, stream_mode=\"values\"):\n",
    "    event[-1].pretty_print()"
   ]
  },
  {
   "cell_type": "code",
   "execution_count": null,
   "id": "7866d22e-c4d2-46c4-9edf-92d821a5c609",
   "metadata": {},
   "outputs": [],
   "source": []
  }
 ],
 "metadata": {
  "kernelspec": {
   "display_name": "Python 3 (ipykernel)",
   "language": "python",
   "name": "python3"
  },
  "language_info": {
   "codemirror_mode": {
    "name": "ipython",
    "version": 3
   },
   "file_extension": ".py",
   "mimetype": "text/x-python",
   "name": "python",
   "nbconvert_exporter": "python",
   "pygments_lexer": "ipython3",
   "version": "3.12.3"
  }
 },
 "nbformat": 4,
 "nbformat_minor": 5
}
